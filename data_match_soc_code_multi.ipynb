{
 "cells": [
  {
   "cell_type": "code",
   "execution_count": 1,
   "metadata": {},
   "outputs": [],
   "source": [
    "import pandas as pd\n",
    "import numpy as np\n",
    "import time \n",
    "from multiprocessing import Pool , cpu_count\n",
    "num_cores = cpu_count()"
   ]
  },
  {
   "cell_type": "code",
   "execution_count": 2,
   "metadata": {},
   "outputs": [],
   "source": [
    "file_path='./datas/'\n",
    "file_name=file_path+\"h1b_train_fillna_soc_data.csv\"\n",
    "train_data=pd.read_csv(file_name)\n",
    "#train_data=train_data.loc[(train_data['CASE_STATUS']=='CERTIFIED') | (train_data['CASE_STATUS']=='DENIED')]"
   ]
  },
  {
   "cell_type": "code",
   "execution_count": 3,
   "metadata": {},
   "outputs": [],
   "source": [
    "def set_soc_code():\n",
    "    \"\"\"\n",
    "    MAKE JOB OCT CODE 팔진수 코드를 부여해 보기 쉽게 한다  ->나중에 2진수로 변환시 보기 매우 편리\n",
    "    0o0: OTHERS \n",
    "    0o400 : COMPUTER \n",
    "    0o200 : MEDICAL\n",
    "    0o100 : SCIENCES\n",
    "    0o040 : EDUCATION\n",
    "    0o020 : MANAGE\n",
    "    0o010 : BUSSINESS\n",
    "    0o004 : TECHNOLOGY\n",
    "    0o002 : FINANCIAL\n",
    "    0o001 : LIVESTOCK\n",
    "    \"\"\"\n",
    "    code_computer=np.array([0o400,'com','software','programmer','project',\n",
    "                   'developer','database','consultant', 'manager','graphic',\n",
    "                           'multimedia','animators','program'])\n",
    "    code_medical=np.array([0o200,'medical','doctor','physic','dentist',\n",
    "                          'surgeon','nurse','psych','health','internists',\n",
    "                          'pharmacists','practitioners','therapist',\n",
    "                          'pediatricians','pathologist','veterinarians',\n",
    "                          'Chiropractor','Rehabilitation','Gynecologist',\n",
    "                          'Obstetrician','Anesthesiologist','OPTOMETRIST'])\n",
    "    code_tech=np.array([0o100,'techno','engineer','surveyor','carto','architect',\n",
    "                        'drafter','information','security','designers','machine',\n",
    "                       'tech','repairer','interpreters','EDITOR','Mechanic'])\n",
    "    code_edu=np.array([0o40,'teach','linguist','professor','school','principal','edu',\n",
    "                      'instructional'])\n",
    "    code_manage=np.array([0o20,'relation','manage','operation','chief','plan',\n",
    "                          'executive','resources','coache','training','lawyer',\n",
    "                         'legal','law','curator','Librarian','Recruiter'])\n",
    "    code_bussiness=np.array([0o10,'advertis','marketing','business','research',\n",
    "                             'promotion','logisticians','economist','auditor',\n",
    "                            'sale','retail'])\n",
    "    code_sci=np.array([0o4,'chemist','physicist','bio','scientist','Epidemiologist',\n",
    "              'clinical','math','statistic','predictive','stats','Astronomer'])\n",
    "    code_finacial=np.array([0o2,'accountant','finan','cost','estimators',\n",
    "                           'credit','actuaries','budget','accounting','Insurance '])\n",
    "    code_livestock=np.array([0o1,'water','butcher','fashion','scout',\n",
    "                            'art','interior','MILLWRIGHTS','gem','bartender',\n",
    "                            'shoe','directors','correspondents','model','food',\n",
    "                             'ship','author','REPORTER','chef','cook','Dietitian',\n",
    "                            'Athletic','Fitness'])\n",
    "    code_list=[code_computer,code_medical,code_sci,code_edu,code_manage,\n",
    "               code_bussiness,code_tech,code_finacial,code_livestock]\n",
    "    soc_code_array= np.array(code_list)\n",
    "    return soc_code_array"
   ]
  },
  {
   "cell_type": "code",
   "execution_count": 4,
   "metadata": {},
   "outputs": [],
   "source": [
    "soc_code_array=set_soc_code()"
   ]
  },
  {
   "cell_type": "code",
   "execution_count": 5,
   "metadata": {},
   "outputs": [],
   "source": [
    "def parallelize_dataframe(df, func):\n",
    "    df_split = np.array_split(df, num_cores)\n",
    "    pool = Pool(processes=num_cores)\n",
    "    df = pd.concat(pool.map(func, df_split))\n",
    "    pool.close()\n",
    "    pool.join()\n",
    "    return df"
   ]
  },
  {
   "cell_type": "code",
   "execution_count": null,
   "metadata": {},
   "outputs": [],
   "source": [
    "def match_soc_code(soc_name_input) :\n",
    "    soc_code_num=0o0 # 나중에 반환될값\n",
    "    soc_name_series=pd.Series(str(soc_name_input).split(' ')) # 글자를 띄어쓰기 별로 구분해서 Series 화 시킨다\n",
    "    soc_find=lambda x: soc_name_series[soc_name_series.str.contains('|'.join(x),case=False)].size>=1 # 람다식 함수 생성  or 를 join 으로 다 붙여준후에 contains 해주고 그게 크기를 구하는 함수\n",
    "    soc_result=np.array(list(filter(soc_find,soc_code_array)))#필터를 통해 아까 람다식이 참인 것들만 반환해 준다\n",
    "    soc_code_list=[int(i[0])  for i in soc_result  ]#팔진수를 인티저 형으로 받아서 더해준다\n",
    "    #soc_code_num=sum(soc_code_list)\n",
    "    soc_code_list.sort(reverse=True)\n",
    "    soc_code_num=soc_code_list[0]\n",
    "    if (soc_code_num>=1) : # 카테고리화 되지 못한 항목은 0으로 유지 선택된 것은 맨앞에 1을 붙여주어 구별하기 편하게 한다.\n",
    "        soc_code_num+=0o1000 \n",
    "    return oct(soc_code_num) # 카테고리화 된 번호 반환"
   ]
  },
  {
   "cell_type": "code",
   "execution_count": null,
   "metadata": {},
   "outputs": [],
   "source": [
    "num=1\n",
    "def map_soc_code(data) :\n",
    "    global num\n",
    "    print(\"working process\" ,num)\n",
    "    num +=1\n",
    "    data[\"SOC_CODE\"]=data[\"SOC_NAME\"].map(lambda x : match_soc_code(x))\n",
    "    return data"
   ]
  },
  {
   "cell_type": "code",
   "execution_count": null,
   "metadata": {},
   "outputs": [],
   "source": [
    "if __name__ == '__main__':\n",
    "    start_time = time.time() \n",
    "    train_data_match_soc_code=parallelize_dataframe(train_data, map_soc_code)\n",
    "    end_time = time.time()\n",
    "    task1=end_time-start_time\n",
    "    now = time.gmtime(task1)\n",
    "    print(now.tm_hour, now.tm_min, now.tm_sec)"
   ]
  },
  {
   "cell_type": "code",
   "execution_count": null,
   "metadata": {},
   "outputs": [],
   "source": [
    "save_file=file_path+'h1b_train_match_soc_code.csv'\n",
    "train_data_match_soc_code.to_csv(save_file,index=False)"
   ]
  },
  {
   "cell_type": "code",
   "execution_count": null,
   "metadata": {},
   "outputs": [],
   "source": []
  }
 ],
 "metadata": {
  "kernelspec": {
   "display_name": "Python 3",
   "language": "python",
   "name": "python3"
  },
  "language_info": {
   "codemirror_mode": {
    "name": "ipython",
    "version": 3
   },
   "file_extension": ".py",
   "mimetype": "text/x-python",
   "name": "python",
   "nbconvert_exporter": "python",
   "pygments_lexer": "ipython3",
   "version": "3.6.5"
  },
  "toc": {
   "base_numbering": 1,
   "nav_menu": {},
   "number_sections": true,
   "sideBar": true,
   "skip_h1_title": false,
   "title_cell": "Table of Contents",
   "title_sidebar": "Contents",
   "toc_cell": false,
   "toc_position": {},
   "toc_section_display": true,
   "toc_window_display": false
  },
  "varInspector": {
   "cols": {
    "lenName": 16,
    "lenType": 16,
    "lenVar": 40
   },
   "kernels_config": {
    "python": {
     "delete_cmd_postfix": "",
     "delete_cmd_prefix": "del ",
     "library": "var_list.py",
     "varRefreshCmd": "print(var_dic_list())"
    },
    "r": {
     "delete_cmd_postfix": ") ",
     "delete_cmd_prefix": "rm(",
     "library": "var_list.r",
     "varRefreshCmd": "cat(var_dic_list()) "
    }
   },
   "types_to_exclude": [
    "module",
    "function",
    "builtin_function_or_method",
    "instance",
    "_Feature"
   ],
   "window_display": false
  }
 },
 "nbformat": 4,
 "nbformat_minor": 2
}
